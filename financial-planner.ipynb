{
 "cells": [
  {
   "cell_type": "markdown",
   "metadata": {},
   "source": [
    "# Unit 5 - Financial Planning"
   ]
  },
  {
   "cell_type": "code",
   "execution_count": 3,
   "metadata": {},
   "outputs": [],
   "source": [
    "# Initial imports\n",
    "import os\n",
    "import requests\n",
    "import pandas as pd\n",
    "from dotenv import load_dotenv\n",
    "import alpaca_trade_api as tradeapi\n",
    "\n",
    "\n",
    "%matplotlib inline"
   ]
  },
  {
   "cell_type": "code",
   "execution_count": 26,
   "metadata": {},
   "outputs": [],
   "source": [
    "from MCForecastTools import MCSimulation"
   ]
  },
  {
   "cell_type": "code",
   "execution_count": 4,
   "metadata": {},
   "outputs": [
    {
     "data": {
      "text/plain": [
       "True"
      ]
     },
     "execution_count": 4,
     "metadata": {},
     "output_type": "execute_result"
    }
   ],
   "source": [
    "# Load .env enviroment variables\n",
    "load_dotenv()"
   ]
  },
  {
   "cell_type": "markdown",
   "metadata": {},
   "source": [
    "## Part 1 - Personal Finance Planner"
   ]
  },
  {
   "cell_type": "markdown",
   "metadata": {},
   "source": [
    "### Collect Crypto Prices Using the `requests` Library"
   ]
  },
  {
   "cell_type": "code",
   "execution_count": 5,
   "metadata": {},
   "outputs": [],
   "source": [
    "# Set current amount of crypto assets\n",
    "my_btc = 1.2\n",
    "my_eth = 5.3"
   ]
  },
  {
   "cell_type": "code",
   "execution_count": 6,
   "metadata": {},
   "outputs": [],
   "source": [
    "# Crypto API URLs\n",
    "btc_url = \"https://api.alternative.me/v2/ticker/Bitcoin/?convert=CAD\"\n",
    "eth_url = \"https://api.alternative.me/v2/ticker/Ethereum/?convert=CAD\""
   ]
  },
  {
   "cell_type": "code",
   "execution_count": 7,
   "metadata": {},
   "outputs": [],
   "source": [
    "today = pd.Timestamp(\"2021-09-28\", tz=\"America/New_York\").isoformat()"
   ]
  },
  {
   "cell_type": "code",
   "execution_count": 8,
   "metadata": {},
   "outputs": [],
   "source": [
    "timeframe = \"1D\""
   ]
  },
  {
   "cell_type": "code",
   "execution_count": null,
   "metadata": {},
   "outputs": [],
   "source": []
  },
  {
   "cell_type": "code",
   "execution_count": 9,
   "metadata": {},
   "outputs": [
    {
     "data": {
      "text/plain": [
       "{'data': {'1': {'id': 1,\n",
       "   'name': 'Bitcoin',\n",
       "   'symbol': 'BTC',\n",
       "   'website_slug': 'bitcoin',\n",
       "   'rank': 1,\n",
       "   'circulating_supply': 18830012,\n",
       "   'total_supply': 18830012,\n",
       "   'max_supply': 21000000,\n",
       "   'quotes': {'USD': {'price': 43162.0,\n",
       "     'volume_24h': 31312093697,\n",
       "     'market_cap': 811813814433,\n",
       "     'percentage_change_1h': 0.235761537665954,\n",
       "     'percentage_change_24h': 3.05811103981298,\n",
       "     'percentage_change_7d': -0.97490976414494,\n",
       "     'percent_change_1h': 0.235761537665954,\n",
       "     'percent_change_24h': 3.05811103981298,\n",
       "     'percent_change_7d': -0.97490976414494},\n",
       "    'CAD': {'price': 55001.3366,\n",
       "     'volume_24h': 39901000998.0871,\n",
       "     'market_cap': 1034494343731.97,\n",
       "     'percent_change_1h': 0.235761537665954,\n",
       "     'percent_change_24h': 3.05811103981298,\n",
       "     'percent_change_7d': -0.97490976414494}},\n",
       "   'last_updated': 1632969581}},\n",
       " 'metadata': {'timestamp': 1632969581,\n",
       "  'num_cryptocurrencies': 3105,\n",
       "  'error': None}}"
      ]
     },
     "execution_count": 9,
     "metadata": {},
     "output_type": "execute_result"
    }
   ],
   "source": [
    "btc_data = requests.get(btc_url).json()\n",
    "btc_data"
   ]
  },
  {
   "cell_type": "code",
   "execution_count": 10,
   "metadata": {},
   "outputs": [
    {
     "data": {
      "text/plain": [
       "43162.0"
      ]
     },
     "execution_count": 10,
     "metadata": {},
     "output_type": "execute_result"
    }
   ],
   "source": [
    "btc_price = btc_data['data']['1']['quotes']['USD']['price']\n",
    "btc_price"
   ]
  },
  {
   "cell_type": "code",
   "execution_count": 11,
   "metadata": {},
   "outputs": [
    {
     "data": {
      "text/plain": [
       "51794.4"
      ]
     },
     "execution_count": 11,
     "metadata": {},
     "output_type": "execute_result"
    }
   ],
   "source": [
    "my_btc_value = btc_price * my_btc\n",
    "my_btc_value"
   ]
  },
  {
   "cell_type": "code",
   "execution_count": 12,
   "metadata": {},
   "outputs": [
    {
     "data": {
      "text/plain": [
       "{'data': {'1027': {'id': 1027,\n",
       "   'name': 'Ethereum',\n",
       "   'symbol': 'ETH',\n",
       "   'website_slug': 'ethereum',\n",
       "   'rank': 2,\n",
       "   'circulating_supply': 117730228,\n",
       "   'total_supply': 117730228,\n",
       "   'max_supply': 0,\n",
       "   'quotes': {'USD': {'price': 2980.35,\n",
       "     'volume_24h': 18959141729,\n",
       "     'market_cap': 350417737254,\n",
       "     'percentage_change_1h': 0.296270651093275,\n",
       "     'percentage_change_24h': 3.45202480016763,\n",
       "     'percentage_change_7d': -3.0502687302819,\n",
       "     'percent_change_1h': 0.296270651093275,\n",
       "     'percent_change_24h': 3.45202480016763,\n",
       "     'percent_change_7d': -3.0502687302819},\n",
       "    'CAD': {'price': 3797.860005,\n",
       "     'volume_24h': 24159634305.2647,\n",
       "     'market_cap': 446537322582.772,\n",
       "     'percent_change_1h': 0.296270651093275,\n",
       "     'percent_change_24h': 3.45202480016763,\n",
       "     'percent_change_7d': -3.0502687302819}},\n",
       "   'last_updated': 1632969592}},\n",
       " 'metadata': {'timestamp': 1632969592,\n",
       "  'num_cryptocurrencies': 3105,\n",
       "  'error': None}}"
      ]
     },
     "execution_count": 12,
     "metadata": {},
     "output_type": "execute_result"
    }
   ],
   "source": [
    "eth_data = requests.get(eth_url).json()\n",
    "eth_data"
   ]
  },
  {
   "cell_type": "code",
   "execution_count": 13,
   "metadata": {},
   "outputs": [
    {
     "data": {
      "text/plain": [
       "2980.35"
      ]
     },
     "execution_count": 13,
     "metadata": {},
     "output_type": "execute_result"
    }
   ],
   "source": [
    "eth_price = eth_data['data']['1027']['quotes']['USD']['price']\n",
    "eth_price"
   ]
  },
  {
   "cell_type": "code",
   "execution_count": 14,
   "metadata": {},
   "outputs": [
    {
     "data": {
      "text/plain": [
       "15795.855"
      ]
     },
     "execution_count": 14,
     "metadata": {},
     "output_type": "execute_result"
    }
   ],
   "source": [
    "my_eth_value = eth_price * my_eth\n",
    "my_eth_value"
   ]
  },
  {
   "cell_type": "code",
   "execution_count": 15,
   "metadata": {},
   "outputs": [
    {
     "name": "stdout",
     "output_type": "stream",
     "text": [
      "The current value of your 1.2 BTC is $51794.40\n",
      "The current value of your 5.3 ETH is $15795.85\n"
     ]
    }
   ],
   "source": [
    "# Fetch current BTC price\n",
    "btc_price = btc_data['data']['1']['quotes']['USD']['price']\n",
    "\n",
    "# Fetch current ETH price\n",
    "eth_price = eth_data['data']['1027']['quotes']['USD']['price']\n",
    "# Compute current value of my crpto\n",
    "my_btc_value = btc_price * my_btc\n",
    "my_eth_value = eth_price * my_eth\n",
    "\n",
    "# Print current crypto wallet balance\n",
    "print(f\"The current value of your {my_btc} BTC is ${my_btc_value:0.2f}\")\n",
    "print(f\"The current value of your {my_eth} ETH is ${my_eth_value:0.2f}\")"
   ]
  },
  {
   "cell_type": "markdown",
   "metadata": {},
   "source": [
    "### Collect Investments Data Using Alpaca: `SPY` (stocks) and `AGG` (bonds)"
   ]
  },
  {
   "cell_type": "code",
   "execution_count": 16,
   "metadata": {},
   "outputs": [],
   "source": [
    "# Set current amount of shares\n",
    "my_agg = 200\n",
    "my_spy = 50"
   ]
  },
  {
   "cell_type": "code",
   "execution_count": 17,
   "metadata": {},
   "outputs": [],
   "source": [
    "# Set Alpaca API key and secret\n",
    "alpaca_api_key = os.getenv(\"ALPACA_API_KEY\")\n",
    "alpaca_secret_key = os.getenv(\"ALPACA_SECRET_KEY\")\n",
    "\n",
    "# Create the Alpaca API object\n",
    "api = tradeapi.REST(\n",
    "    alpaca_api_key,\n",
    "    alpaca_secret_key,\n",
    "    api_version = \"v2\"\n",
    ")"
   ]
  },
  {
   "cell_type": "code",
   "execution_count": 18,
   "metadata": {},
   "outputs": [
    {
     "data": {
      "text/html": [
       "<div>\n",
       "<style scoped>\n",
       "    .dataframe tbody tr th:only-of-type {\n",
       "        vertical-align: middle;\n",
       "    }\n",
       "\n",
       "    .dataframe tbody tr th {\n",
       "        vertical-align: top;\n",
       "    }\n",
       "\n",
       "    .dataframe thead tr th {\n",
       "        text-align: left;\n",
       "    }\n",
       "\n",
       "    .dataframe thead tr:last-of-type th {\n",
       "        text-align: right;\n",
       "    }\n",
       "</style>\n",
       "<table border=\"1\" class=\"dataframe\">\n",
       "  <thead>\n",
       "    <tr>\n",
       "      <th></th>\n",
       "      <th colspan=\"5\" halign=\"left\">AGG</th>\n",
       "      <th colspan=\"5\" halign=\"left\">SPY</th>\n",
       "    </tr>\n",
       "    <tr>\n",
       "      <th></th>\n",
       "      <th>open</th>\n",
       "      <th>high</th>\n",
       "      <th>low</th>\n",
       "      <th>close</th>\n",
       "      <th>volume</th>\n",
       "      <th>open</th>\n",
       "      <th>high</th>\n",
       "      <th>low</th>\n",
       "      <th>close</th>\n",
       "      <th>volume</th>\n",
       "    </tr>\n",
       "    <tr>\n",
       "      <th>time</th>\n",
       "      <th></th>\n",
       "      <th></th>\n",
       "      <th></th>\n",
       "      <th></th>\n",
       "      <th></th>\n",
       "      <th></th>\n",
       "      <th></th>\n",
       "      <th></th>\n",
       "      <th></th>\n",
       "      <th></th>\n",
       "    </tr>\n",
       "  </thead>\n",
       "  <tbody>\n",
       "    <tr>\n",
       "      <th>2021-07-28 00:00:00-04:00</th>\n",
       "      <td>116.24</td>\n",
       "      <td>116.49</td>\n",
       "      <td>116.14</td>\n",
       "      <td>116.48</td>\n",
       "      <td>5189696</td>\n",
       "      <td>439.68</td>\n",
       "      <td>440.3</td>\n",
       "      <td>437.31</td>\n",
       "      <td>438.84</td>\n",
       "      <td>47642330</td>\n",
       "    </tr>\n",
       "  </tbody>\n",
       "</table>\n",
       "</div>"
      ],
      "text/plain": [
       "                              AGG                                      SPY  \\\n",
       "                             open    high     low   close   volume    open   \n",
       "time                                                                         \n",
       "2021-07-28 00:00:00-04:00  116.24  116.49  116.14  116.48  5189696  439.68   \n",
       "\n",
       "                                                            \n",
       "                            high     low   close    volume  \n",
       "time                                                        \n",
       "2021-07-28 00:00:00-04:00  440.3  437.31  438.84  47642330  "
      ]
     },
     "execution_count": 18,
     "metadata": {},
     "output_type": "execute_result"
    }
   ],
   "source": [
    "# Format current date as ISO format\n",
    "today = pd.Timestamp(\"2021-07-28\", tz=\"America/New_York\").isoformat()\n",
    "\n",
    "\n",
    "# Set the tickers\n",
    "tickers = [\"AGG\", \"SPY\"]\n",
    "\n",
    "# Set timeframe to '1D' for Alpaca API\n",
    "timeframe = \"1D\"\n",
    "\n",
    "# Get current closing prices for SPY and AGG\n",
    "# (use a limit=1000 parameter to call the most recent 1000 days of data)\n",
    "df_portfolio = api.get_barset(\n",
    "    tickers,\n",
    "    timeframe,\n",
    "    start = today,\n",
    "    end = today,\n",
    "    limit = 1000\n",
    ").df\n",
    "\n",
    "# Preview DataFrame\n",
    "df_portfolio.head()"
   ]
  },
  {
   "cell_type": "code",
   "execution_count": 19,
   "metadata": {},
   "outputs": [
    {
     "name": "stdout",
     "output_type": "stream",
     "text": [
      "Current AGG closing price: $116.48\n",
      "Current SPY closing price: $438.84\n"
     ]
    }
   ],
   "source": [
    "# Pick AGG and SPY close prices\n",
    "agg_close_price = float(df_portfolio[\"AGG\"][\"close\"])\n",
    "spy_close_price = float(df_portfolio[\"SPY\"][\"close\"])\n",
    "# Print AGG and SPY close prices\n",
    "print(f\"Current AGG closing price: ${agg_close_price}\")\n",
    "print(f\"Current SPY closing price: ${spy_close_price}\")"
   ]
  },
  {
   "cell_type": "code",
   "execution_count": 20,
   "metadata": {},
   "outputs": [
    {
     "name": "stdout",
     "output_type": "stream",
     "text": [
      "The current value of your 50 SPY shares is $21942.00\n",
      "The current value of your 200 AGG shares is $23296.00\n"
     ]
    }
   ],
   "source": [
    "# Compute the current value of shares\n",
    "my_spy_value = spy_close_price * my_spy\n",
    "my_agg_value = agg_close_price * my_agg\n",
    "\n",
    "# Print current value of shares\n",
    "print(f\"The current value of your {my_spy} SPY shares is ${my_spy_value:0.2f}\")\n",
    "print(f\"The current value of your {my_agg} AGG shares is ${my_agg_value:0.2f}\")"
   ]
  },
  {
   "cell_type": "markdown",
   "metadata": {},
   "source": [
    "### Savings Health Analysis"
   ]
  },
  {
   "cell_type": "code",
   "execution_count": 21,
   "metadata": {},
   "outputs": [
    {
     "data": {
      "text/html": [
       "<div>\n",
       "<style scoped>\n",
       "    .dataframe tbody tr th:only-of-type {\n",
       "        vertical-align: middle;\n",
       "    }\n",
       "\n",
       "    .dataframe tbody tr th {\n",
       "        vertical-align: top;\n",
       "    }\n",
       "\n",
       "    .dataframe thead th {\n",
       "        text-align: right;\n",
       "    }\n",
       "</style>\n",
       "<table border=\"1\" class=\"dataframe\">\n",
       "  <thead>\n",
       "    <tr style=\"text-align: right;\">\n",
       "      <th></th>\n",
       "      <th>amount</th>\n",
       "    </tr>\n",
       "  </thead>\n",
       "  <tbody>\n",
       "    <tr>\n",
       "      <th>crypto</th>\n",
       "      <td>67590.255</td>\n",
       "    </tr>\n",
       "    <tr>\n",
       "      <th>shares</th>\n",
       "      <td>45238.000</td>\n",
       "    </tr>\n",
       "  </tbody>\n",
       "</table>\n",
       "</div>"
      ],
      "text/plain": [
       "           amount\n",
       "crypto  67590.255\n",
       "shares  45238.000"
      ]
     },
     "metadata": {},
     "output_type": "display_data"
    }
   ],
   "source": [
    "# Set monthly household income\n",
    "monthly_income = 12000\n",
    "\n",
    "# Consolidate financial assets data\n",
    "crypto_value = my_btc_value + my_eth_value\n",
    "shares_value = my_spy_value + my_agg_value\n",
    "\n",
    "# Create savings DataFrame\n",
    "data = {'amount':[crypto_value, shares_value]}\n",
    "df_savings = pd.DataFrame(data, index =['crypto', 'shares'])\n",
    "\n",
    "# Display savings DataFrame\n",
    "display(df_savings)"
   ]
  },
  {
   "cell_type": "code",
   "execution_count": 22,
   "metadata": {},
   "outputs": [
    {
     "data": {
      "text/plain": [
       "<AxesSubplot:title={'center':'composition of personal savings'}, ylabel='amount'>"
      ]
     },
     "execution_count": 22,
     "metadata": {},
     "output_type": "execute_result"
    },
    {
     "data": {
      "image/png": "[encoded data removed]",
      "text/plain": [
       "<Figure size 432x288 with 1 Axes>"
      ]
     },
     "metadata": {},
     "output_type": "display_data"
    }
   ],
   "source": [
    "# Plot savings pie chart\n",
    "df_savings.plot.pie(y=\"amount\", title=\"composition of personal savings\")"
   ]
  },
  {
   "cell_type": "code",
   "execution_count": 23,
   "metadata": {},
   "outputs": [
    {
     "name": "stdout",
     "output_type": "stream",
     "text": [
      "Congratuations! You have enough money in your emergency fund.\n"
     ]
    }
   ],
   "source": [
    "# Set ideal emergency fund\n",
    "emergency_fund = monthly_income * 3\n",
    "\n",
    "# Calculate total amount of savings\n",
    "total_savings = crypto_value + shares_value\n",
    "\n",
    "# Validate saving health\n",
    "if emergency_fund < total_savings:\n",
    "        print(\"Congratuations! You have enough money in your emergency fund.\")\n",
    "elif emergency_fund == total_savings:\n",
    "        print(\"Congratulations! You have reach this financial goal\")\n",
    "else:\n",
    "        print(f\"You are {emergency_fund - total_savings} dollars away from reaching the goal\")"
   ]
  },
  {
   "cell_type": "markdown",
   "metadata": {},
   "source": [
    "## Part 2 - Retirement Planning\n",
    "\n",
    "### Monte Carlo Simulation"
   ]
  },
  {
   "cell_type": "code",
   "execution_count": 27,
   "metadata": {},
   "outputs": [],
   "source": [
    "# Set start and end dates of five years back from today.\n",
    "# Sample results may vary from the solution based on the time frame chosen\n",
    "start_date = pd.Timestamp('2016-09-28', tz='America/New_York').isoformat()\n",
    "end_date = pd.Timestamp('2021-09-28', tz='America/New_York').isoformat()"
   ]
  },
  {
   "cell_type": "code",
   "execution_count": 28,
   "metadata": {},
   "outputs": [
    {
     "data": {
      "text/html": [
       "<div>\n",
       "<style scoped>\n",
       "    .dataframe tbody tr th:only-of-type {\n",
       "        vertical-align: middle;\n",
       "    }\n",
       "\n",
       "    .dataframe tbody tr th {\n",
       "        vertical-align: top;\n",
       "    }\n",
       "\n",
       "    .dataframe thead tr th {\n",
       "        text-align: left;\n",
       "    }\n",
       "\n",
       "    .dataframe thead tr:last-of-type th {\n",
       "        text-align: right;\n",
       "    }\n",
       "</style>\n",
       "<table border=\"1\" class=\"dataframe\">\n",
       "  <thead>\n",
       "    <tr>\n",
       "      <th></th>\n",
       "      <th colspan=\"5\" halign=\"left\">AGG</th>\n",
       "      <th colspan=\"5\" halign=\"left\">SPY</th>\n",
       "    </tr>\n",
       "    <tr>\n",
       "      <th></th>\n",
       "      <th>open</th>\n",
       "      <th>high</th>\n",
       "      <th>low</th>\n",
       "      <th>close</th>\n",
       "      <th>volume</th>\n",
       "      <th>open</th>\n",
       "      <th>high</th>\n",
       "      <th>low</th>\n",
       "      <th>close</th>\n",
       "      <th>volume</th>\n",
       "    </tr>\n",
       "    <tr>\n",
       "      <th>time</th>\n",
       "      <th></th>\n",
       "      <th></th>\n",
       "      <th></th>\n",
       "      <th></th>\n",
       "      <th></th>\n",
       "      <th></th>\n",
       "      <th></th>\n",
       "      <th></th>\n",
       "      <th></th>\n",
       "      <th></th>\n",
       "    </tr>\n",
       "  </thead>\n",
       "  <tbody>\n",
       "    <tr>\n",
       "      <th>2017-10-06 00:00:00-04:00</th>\n",
       "      <td>109.22</td>\n",
       "      <td>109.42</td>\n",
       "      <td>109.1499</td>\n",
       "      <td>109.29</td>\n",
       "      <td>1587251.0</td>\n",
       "      <td>NaN</td>\n",
       "      <td>NaN</td>\n",
       "      <td>NaN</td>\n",
       "      <td>NaN</td>\n",
       "      <td>NaN</td>\n",
       "    </tr>\n",
       "    <tr>\n",
       "      <th>2017-10-09 00:00:00-04:00</th>\n",
       "      <td>109.35</td>\n",
       "      <td>109.42</td>\n",
       "      <td>109.3146</td>\n",
       "      <td>109.40</td>\n",
       "      <td>1000706.0</td>\n",
       "      <td>254.63</td>\n",
       "      <td>254.70</td>\n",
       "      <td>253.650</td>\n",
       "      <td>253.96</td>\n",
       "      <td>23554888.0</td>\n",
       "    </tr>\n",
       "    <tr>\n",
       "      <th>2017-10-10 00:00:00-04:00</th>\n",
       "      <td>109.47</td>\n",
       "      <td>109.61</td>\n",
       "      <td>109.3999</td>\n",
       "      <td>109.43</td>\n",
       "      <td>1502645.0</td>\n",
       "      <td>254.62</td>\n",
       "      <td>255.05</td>\n",
       "      <td>253.980</td>\n",
       "      <td>254.60</td>\n",
       "      <td>28248210.0</td>\n",
       "    </tr>\n",
       "    <tr>\n",
       "      <th>2017-10-11 00:00:00-04:00</th>\n",
       "      <td>109.47</td>\n",
       "      <td>109.53</td>\n",
       "      <td>109.4200</td>\n",
       "      <td>109.47</td>\n",
       "      <td>1576528.0</td>\n",
       "      <td>254.51</td>\n",
       "      <td>255.02</td>\n",
       "      <td>254.320</td>\n",
       "      <td>255.00</td>\n",
       "      <td>24704274.0</td>\n",
       "    </tr>\n",
       "    <tr>\n",
       "      <th>2017-10-12 00:00:00-04:00</th>\n",
       "      <td>109.56</td>\n",
       "      <td>109.61</td>\n",
       "      <td>109.4800</td>\n",
       "      <td>109.61</td>\n",
       "      <td>1797948.0</td>\n",
       "      <td>254.66</td>\n",
       "      <td>255.06</td>\n",
       "      <td>254.365</td>\n",
       "      <td>254.60</td>\n",
       "      <td>32195167.0</td>\n",
       "    </tr>\n",
       "  </tbody>\n",
       "</table>\n",
       "</div>"
      ],
      "text/plain": [
       "                              AGG                                       \\\n",
       "                             open    high       low   close     volume   \n",
       "time                                                                     \n",
       "2017-10-06 00:00:00-04:00  109.22  109.42  109.1499  109.29  1587251.0   \n",
       "2017-10-09 00:00:00-04:00  109.35  109.42  109.3146  109.40  1000706.0   \n",
       "2017-10-10 00:00:00-04:00  109.47  109.61  109.3999  109.43  1502645.0   \n",
       "2017-10-11 00:00:00-04:00  109.47  109.53  109.4200  109.47  1576528.0   \n",
       "2017-10-12 00:00:00-04:00  109.56  109.61  109.4800  109.61  1797948.0   \n",
       "\n",
       "                              SPY                                       \n",
       "                             open    high      low   close      volume  \n",
       "time                                                                    \n",
       "2017-10-06 00:00:00-04:00     NaN     NaN      NaN     NaN         NaN  \n",
       "2017-10-09 00:00:00-04:00  254.63  254.70  253.650  253.96  23554888.0  \n",
       "2017-10-10 00:00:00-04:00  254.62  255.05  253.980  254.60  28248210.0  \n",
       "2017-10-11 00:00:00-04:00  254.51  255.02  254.320  255.00  24704274.0  \n",
       "2017-10-12 00:00:00-04:00  254.66  255.06  254.365  254.60  32195167.0  "
      ]
     },
     "execution_count": 28,
     "metadata": {},
     "output_type": "execute_result"
    }
   ],
   "source": [
    "# Get 5 years' worth of historical data for SPY and AGG\n",
    "df_stock_data = api.get_barset(\n",
    "    tickers,\n",
    "    timeframe,\n",
    "    start = start_date,\n",
    "    end = end_date,\n",
    "    limit = 1000\n",
    ").df\n",
    "\n",
    "# Display sample data\n",
    "df_stock_data.head()"
   ]
  },
  {
   "cell_type": "code",
   "execution_count": 29,
   "metadata": {},
   "outputs": [],
   "source": [
    "# Configuring a Monte Carlo simulation to forecast 30 years cumulative returns\n",
    "MC_sim = MCSimulation(portfolio_data = df_stock_data, weights = [.40,.60], num_simulation = 500, num_trading_days = 252*30)"
   ]
  },
  {
   "cell_type": "code",
   "execution_count": 32,
   "metadata": {},
   "outputs": [
    {
     "data": {
      "text/html": [
       "<div>\n",
       "<style scoped>\n",
       "    .dataframe tbody tr th:only-of-type {\n",
       "        vertical-align: middle;\n",
       "    }\n",
       "\n",
       "    .dataframe tbody tr th {\n",
       "        vertical-align: top;\n",
       "    }\n",
       "\n",
       "    .dataframe thead tr th {\n",
       "        text-align: left;\n",
       "    }\n",
       "\n",
       "    .dataframe thead tr:last-of-type th {\n",
       "        text-align: right;\n",
       "    }\n",
       "</style>\n",
       "<table border=\"1\" class=\"dataframe\">\n",
       "  <thead>\n",
       "    <tr>\n",
       "      <th></th>\n",
       "      <th colspan=\"6\" halign=\"left\">AGG</th>\n",
       "      <th colspan=\"6\" halign=\"left\">SPY</th>\n",
       "    </tr>\n",
       "    <tr>\n",
       "      <th></th>\n",
       "      <th>open</th>\n",
       "      <th>high</th>\n",
       "      <th>low</th>\n",
       "      <th>close</th>\n",
       "      <th>volume</th>\n",
       "      <th>daily_return</th>\n",
       "      <th>open</th>\n",
       "      <th>high</th>\n",
       "      <th>low</th>\n",
       "      <th>close</th>\n",
       "      <th>volume</th>\n",
       "      <th>daily_return</th>\n",
       "    </tr>\n",
       "    <tr>\n",
       "      <th>time</th>\n",
       "      <th></th>\n",
       "      <th></th>\n",
       "      <th></th>\n",
       "      <th></th>\n",
       "      <th></th>\n",
       "      <th></th>\n",
       "      <th></th>\n",
       "      <th></th>\n",
       "      <th></th>\n",
       "      <th></th>\n",
       "      <th></th>\n",
       "      <th></th>\n",
       "    </tr>\n",
       "  </thead>\n",
       "  <tbody>\n",
       "    <tr>\n",
       "      <th>2017-10-06 00:00:00-04:00</th>\n",
       "      <td>109.22</td>\n",
       "      <td>109.42</td>\n",
       "      <td>109.1499</td>\n",
       "      <td>109.29</td>\n",
       "      <td>1587251.0</td>\n",
       "      <td>NaN</td>\n",
       "      <td>NaN</td>\n",
       "      <td>NaN</td>\n",
       "      <td>NaN</td>\n",
       "      <td>NaN</td>\n",
       "      <td>NaN</td>\n",
       "      <td>NaN</td>\n",
       "    </tr>\n",
       "    <tr>\n",
       "      <th>2017-10-09 00:00:00-04:00</th>\n",
       "      <td>109.35</td>\n",
       "      <td>109.42</td>\n",
       "      <td>109.3146</td>\n",
       "      <td>109.40</td>\n",
       "      <td>1000706.0</td>\n",
       "      <td>0.001006</td>\n",
       "      <td>254.63</td>\n",
       "      <td>254.70</td>\n",
       "      <td>253.650</td>\n",
       "      <td>253.96</td>\n",
       "      <td>23554888.0</td>\n",
       "      <td>NaN</td>\n",
       "    </tr>\n",
       "    <tr>\n",
       "      <th>2017-10-10 00:00:00-04:00</th>\n",
       "      <td>109.47</td>\n",
       "      <td>109.61</td>\n",
       "      <td>109.3999</td>\n",
       "      <td>109.43</td>\n",
       "      <td>1502645.0</td>\n",
       "      <td>0.000274</td>\n",
       "      <td>254.62</td>\n",
       "      <td>255.05</td>\n",
       "      <td>253.980</td>\n",
       "      <td>254.60</td>\n",
       "      <td>28248210.0</td>\n",
       "      <td>0.002520</td>\n",
       "    </tr>\n",
       "    <tr>\n",
       "      <th>2017-10-11 00:00:00-04:00</th>\n",
       "      <td>109.47</td>\n",
       "      <td>109.53</td>\n",
       "      <td>109.4200</td>\n",
       "      <td>109.47</td>\n",
       "      <td>1576528.0</td>\n",
       "      <td>0.000366</td>\n",
       "      <td>254.51</td>\n",
       "      <td>255.02</td>\n",
       "      <td>254.320</td>\n",
       "      <td>255.00</td>\n",
       "      <td>24704274.0</td>\n",
       "      <td>0.001571</td>\n",
       "    </tr>\n",
       "    <tr>\n",
       "      <th>2017-10-12 00:00:00-04:00</th>\n",
       "      <td>109.56</td>\n",
       "      <td>109.61</td>\n",
       "      <td>109.4800</td>\n",
       "      <td>109.61</td>\n",
       "      <td>1797948.0</td>\n",
       "      <td>0.001279</td>\n",
       "      <td>254.66</td>\n",
       "      <td>255.06</td>\n",
       "      <td>254.365</td>\n",
       "      <td>254.60</td>\n",
       "      <td>32195167.0</td>\n",
       "      <td>-0.001569</td>\n",
       "    </tr>\n",
       "  </tbody>\n",
       "</table>\n",
       "</div>"
      ],
      "text/plain": [
       "                              AGG                                       \\\n",
       "                             open    high       low   close     volume   \n",
       "time                                                                     \n",
       "2017-10-06 00:00:00-04:00  109.22  109.42  109.1499  109.29  1587251.0   \n",
       "2017-10-09 00:00:00-04:00  109.35  109.42  109.3146  109.40  1000706.0   \n",
       "2017-10-10 00:00:00-04:00  109.47  109.61  109.3999  109.43  1502645.0   \n",
       "2017-10-11 00:00:00-04:00  109.47  109.53  109.4200  109.47  1576528.0   \n",
       "2017-10-12 00:00:00-04:00  109.56  109.61  109.4800  109.61  1797948.0   \n",
       "\n",
       "                                           SPY                           \\\n",
       "                          daily_return    open    high      low   close   \n",
       "time                                                                      \n",
       "2017-10-06 00:00:00-04:00          NaN     NaN     NaN      NaN     NaN   \n",
       "2017-10-09 00:00:00-04:00     0.001006  254.63  254.70  253.650  253.96   \n",
       "2017-10-10 00:00:00-04:00     0.000274  254.62  255.05  253.980  254.60   \n",
       "2017-10-11 00:00:00-04:00     0.000366  254.51  255.02  254.320  255.00   \n",
       "2017-10-12 00:00:00-04:00     0.001279  254.66  255.06  254.365  254.60   \n",
       "\n",
       "                                                    \n",
       "                               volume daily_return  \n",
       "time                                                \n",
       "2017-10-06 00:00:00-04:00         NaN          NaN  \n",
       "2017-10-09 00:00:00-04:00  23554888.0          NaN  \n",
       "2017-10-10 00:00:00-04:00  28248210.0     0.002520  \n",
       "2017-10-11 00:00:00-04:00  24704274.0     0.001571  \n",
       "2017-10-12 00:00:00-04:00  32195167.0    -0.001569  "
      ]
     },
     "execution_count": 32,
     "metadata": {},
     "output_type": "execute_result"
    }
   ],
   "source": [
    "# Printing the simulation input data\n",
    "MC_sim.portfolio_data.head()"
   ]
  },
  {
   "cell_type": "code",
   "execution_count": 33,
   "metadata": {},
   "outputs": [
    {
     "name": "stdout",
     "output_type": "stream",
     "text": [
      "Running Monte Carlo simulation number 0.\n",
      "Running Monte Carlo simulation number 10.\n",
      "Running Monte Carlo simulation number 20.\n",
      "Running Monte Carlo simulation number 30.\n",
      "Running Monte Carlo simulation number 40.\n",
      "Running Monte Carlo simulation number 50.\n",
      "Running Monte Carlo simulation number 60.\n",
      "Running Monte Carlo simulation number 70.\n",
      "Running Monte Carlo simulation number 80.\n",
      "Running Monte Carlo simulation number 90.\n",
      "Running Monte Carlo simulation number 100.\n",
      "Running Monte Carlo simulation number 110.\n",
      "Running Monte Carlo simulation number 120.\n",
      "Running Monte Carlo simulation number 130.\n",
      "Running Monte Carlo simulation number 140.\n",
      "Running Monte Carlo simulation number 150.\n",
      "Running Monte Carlo simulation number 160.\n",
      "Running Monte Carlo simulation number 170.\n",
      "Running Monte Carlo simulation number 180.\n",
      "Running Monte Carlo simulation number 190.\n",
      "Running Monte Carlo simulation number 200.\n",
      "Running Monte Carlo simulation number 210.\n",
      "Running Monte Carlo simulation number 220.\n",
      "Running Monte Carlo simulation number 230.\n",
      "Running Monte Carlo simulation number 240.\n",
      "Running Monte Carlo simulation number 250.\n",
      "Running Monte Carlo simulation number 260.\n",
      "Running Monte Carlo simulation number 270.\n",
      "Running Monte Carlo simulation number 280.\n",
      "Running Monte Carlo simulation number 290.\n",
      "Running Monte Carlo simulation number 300.\n",
      "Running Monte Carlo simulation number 310.\n",
      "Running Monte Carlo simulation number 320.\n",
      "Running Monte Carlo simulation number 330.\n",
      "Running Monte Carlo simulation number 340.\n",
      "Running Monte Carlo simulation number 350.\n",
      "Running Monte Carlo simulation number 360.\n",
      "Running Monte Carlo simulation number 370.\n",
      "Running Monte Carlo simulation number 380.\n",
      "Running Monte Carlo simulation number 390.\n",
      "Running Monte Carlo simulation number 400.\n",
      "Running Monte Carlo simulation number 410.\n",
      "Running Monte Carlo simulation number 420.\n",
      "Running Monte Carlo simulation number 430.\n",
      "Running Monte Carlo simulation number 440.\n",
      "Running Monte Carlo simulation number 450.\n",
      "Running Monte Carlo simulation number 460.\n",
      "Running Monte Carlo simulation number 470.\n",
      "Running Monte Carlo simulation number 480.\n",
      "Running Monte Carlo simulation number 490.\n"
     ]
    },
    {
     "data": {
      "text/html": [
       "<div>\n",
       "<style scoped>\n",
       "    .dataframe tbody tr th:only-of-type {\n",
       "        vertical-align: middle;\n",
       "    }\n",
       "\n",
       "    .dataframe tbody tr th {\n",
       "        vertical-align: top;\n",
       "    }\n",
       "\n",
       "    .dataframe thead th {\n",
       "        text-align: right;\n",
       "    }\n",
       "</style>\n",
       "<table border=\"1\" class=\"dataframe\">\n",
       "  <thead>\n",
       "    <tr style=\"text-align: right;\">\n",
       "      <th></th>\n",
       "      <th>0</th>\n",
       "      <th>1</th>\n",
       "      <th>2</th>\n",
       "      <th>3</th>\n",
       "      <th>4</th>\n",
       "      <th>5</th>\n",
       "      <th>6</th>\n",
       "      <th>7</th>\n",
       "      <th>8</th>\n",
       "      <th>9</th>\n",
       "      <th>...</th>\n",
       "      <th>490</th>\n",
       "      <th>491</th>\n",
       "      <th>492</th>\n",
       "      <th>493</th>\n",
       "      <th>494</th>\n",
       "      <th>495</th>\n",
       "      <th>496</th>\n",
       "      <th>497</th>\n",
       "      <th>498</th>\n",
       "      <th>499</th>\n",
       "    </tr>\n",
       "  </thead>\n",
       "  <tbody>\n",
       "    <tr>\n",
       "      <th>0</th>\n",
       "      <td>1.000000</td>\n",
       "      <td>1.000000</td>\n",
       "      <td>1.000000</td>\n",
       "      <td>1.000000</td>\n",
       "      <td>1.000000</td>\n",
       "      <td>1.000000</td>\n",
       "      <td>1.000000</td>\n",
       "      <td>1.000000</td>\n",
       "      <td>1.000000</td>\n",
       "      <td>1.000000</td>\n",
       "      <td>...</td>\n",
       "      <td>1.000000</td>\n",
       "      <td>1.000000</td>\n",
       "      <td>1.000000</td>\n",
       "      <td>1.000000</td>\n",
       "      <td>1.000000</td>\n",
       "      <td>1.000000</td>\n",
       "      <td>1.000000</td>\n",
       "      <td>1.000000</td>\n",
       "      <td>1.000000</td>\n",
       "      <td>1.000000</td>\n",
       "    </tr>\n",
       "    <tr>\n",
       "      <th>1</th>\n",
       "      <td>0.993158</td>\n",
       "      <td>0.995934</td>\n",
       "      <td>0.991942</td>\n",
       "      <td>0.997772</td>\n",
       "      <td>1.009052</td>\n",
       "      <td>0.999171</td>\n",
       "      <td>1.005574</td>\n",
       "      <td>0.999753</td>\n",
       "      <td>0.978201</td>\n",
       "      <td>0.998608</td>\n",
       "      <td>...</td>\n",
       "      <td>0.989830</td>\n",
       "      <td>0.989023</td>\n",
       "      <td>0.990311</td>\n",
       "      <td>1.000321</td>\n",
       "      <td>0.995716</td>\n",
       "      <td>0.990334</td>\n",
       "      <td>0.995497</td>\n",
       "      <td>1.007492</td>\n",
       "      <td>0.990847</td>\n",
       "      <td>1.004698</td>\n",
       "    </tr>\n",
       "    <tr>\n",
       "      <th>2</th>\n",
       "      <td>0.982483</td>\n",
       "      <td>0.994717</td>\n",
       "      <td>0.984742</td>\n",
       "      <td>0.992489</td>\n",
       "      <td>1.018436</td>\n",
       "      <td>1.010246</td>\n",
       "      <td>1.004964</td>\n",
       "      <td>0.999979</td>\n",
       "      <td>0.974833</td>\n",
       "      <td>0.993516</td>\n",
       "      <td>...</td>\n",
       "      <td>0.991283</td>\n",
       "      <td>1.002535</td>\n",
       "      <td>0.994000</td>\n",
       "      <td>0.990249</td>\n",
       "      <td>0.996367</td>\n",
       "      <td>0.989093</td>\n",
       "      <td>1.006039</td>\n",
       "      <td>1.015946</td>\n",
       "      <td>0.995454</td>\n",
       "      <td>1.018562</td>\n",
       "    </tr>\n",
       "    <tr>\n",
       "      <th>3</th>\n",
       "      <td>0.975047</td>\n",
       "      <td>0.997549</td>\n",
       "      <td>0.971128</td>\n",
       "      <td>0.981496</td>\n",
       "      <td>1.020749</td>\n",
       "      <td>1.008499</td>\n",
       "      <td>1.006064</td>\n",
       "      <td>1.003460</td>\n",
       "      <td>0.983495</td>\n",
       "      <td>0.991000</td>\n",
       "      <td>...</td>\n",
       "      <td>0.996135</td>\n",
       "      <td>0.993437</td>\n",
       "      <td>0.989321</td>\n",
       "      <td>0.985759</td>\n",
       "      <td>0.986124</td>\n",
       "      <td>0.975531</td>\n",
       "      <td>0.991538</td>\n",
       "      <td>1.021959</td>\n",
       "      <td>0.991874</td>\n",
       "      <td>1.002040</td>\n",
       "    </tr>\n",
       "    <tr>\n",
       "      <th>4</th>\n",
       "      <td>0.969257</td>\n",
       "      <td>1.005673</td>\n",
       "      <td>0.966286</td>\n",
       "      <td>0.973475</td>\n",
       "      <td>1.026831</td>\n",
       "      <td>0.999054</td>\n",
       "      <td>1.001542</td>\n",
       "      <td>1.004106</td>\n",
       "      <td>0.975465</td>\n",
       "      <td>0.981869</td>\n",
       "      <td>...</td>\n",
       "      <td>0.996769</td>\n",
       "      <td>0.986563</td>\n",
       "      <td>0.987395</td>\n",
       "      <td>0.979424</td>\n",
       "      <td>0.991913</td>\n",
       "      <td>0.976171</td>\n",
       "      <td>0.998664</td>\n",
       "      <td>1.023409</td>\n",
       "      <td>0.986844</td>\n",
       "      <td>1.015258</td>\n",
       "    </tr>\n",
       "    <tr>\n",
       "      <th>...</th>\n",
       "      <td>...</td>\n",
       "      <td>...</td>\n",
       "      <td>...</td>\n",
       "      <td>...</td>\n",
       "      <td>...</td>\n",
       "      <td>...</td>\n",
       "      <td>...</td>\n",
       "      <td>...</td>\n",
       "      <td>...</td>\n",
       "      <td>...</td>\n",
       "      <td>...</td>\n",
       "      <td>...</td>\n",
       "      <td>...</td>\n",
       "      <td>...</td>\n",
       "      <td>...</td>\n",
       "      <td>...</td>\n",
       "      <td>...</td>\n",
       "      <td>...</td>\n",
       "      <td>...</td>\n",
       "      <td>...</td>\n",
       "      <td>...</td>\n",
       "    </tr>\n",
       "    <tr>\n",
       "      <th>7556</th>\n",
       "      <td>21.952793</td>\n",
       "      <td>21.501454</td>\n",
       "      <td>11.579663</td>\n",
       "      <td>19.993785</td>\n",
       "      <td>10.451494</td>\n",
       "      <td>10.147526</td>\n",
       "      <td>15.607945</td>\n",
       "      <td>15.303227</td>\n",
       "      <td>18.385376</td>\n",
       "      <td>8.856618</td>\n",
       "      <td>...</td>\n",
       "      <td>19.732840</td>\n",
       "      <td>6.177532</td>\n",
       "      <td>25.966032</td>\n",
       "      <td>13.046036</td>\n",
       "      <td>54.446917</td>\n",
       "      <td>27.440744</td>\n",
       "      <td>21.598468</td>\n",
       "      <td>19.883471</td>\n",
       "      <td>13.439261</td>\n",
       "      <td>47.319326</td>\n",
       "    </tr>\n",
       "    <tr>\n",
       "      <th>7557</th>\n",
       "      <td>21.668459</td>\n",
       "      <td>21.786316</td>\n",
       "      <td>11.650859</td>\n",
       "      <td>20.152804</td>\n",
       "      <td>10.575310</td>\n",
       "      <td>10.078821</td>\n",
       "      <td>15.821949</td>\n",
       "      <td>15.567695</td>\n",
       "      <td>18.199621</td>\n",
       "      <td>8.986775</td>\n",
       "      <td>...</td>\n",
       "      <td>19.686839</td>\n",
       "      <td>6.197291</td>\n",
       "      <td>25.663249</td>\n",
       "      <td>13.200633</td>\n",
       "      <td>55.031678</td>\n",
       "      <td>27.532104</td>\n",
       "      <td>21.726468</td>\n",
       "      <td>19.657902</td>\n",
       "      <td>13.434076</td>\n",
       "      <td>47.829565</td>\n",
       "    </tr>\n",
       "    <tr>\n",
       "      <th>7558</th>\n",
       "      <td>21.752065</td>\n",
       "      <td>21.542267</td>\n",
       "      <td>11.753156</td>\n",
       "      <td>20.061763</td>\n",
       "      <td>10.719774</td>\n",
       "      <td>10.054651</td>\n",
       "      <td>15.846462</td>\n",
       "      <td>15.481954</td>\n",
       "      <td>17.867139</td>\n",
       "      <td>8.922155</td>\n",
       "      <td>...</td>\n",
       "      <td>19.560173</td>\n",
       "      <td>6.186063</td>\n",
       "      <td>25.754813</td>\n",
       "      <td>13.345265</td>\n",
       "      <td>54.658785</td>\n",
       "      <td>27.497166</td>\n",
       "      <td>21.684918</td>\n",
       "      <td>19.431087</td>\n",
       "      <td>13.412435</td>\n",
       "      <td>47.778302</td>\n",
       "    </tr>\n",
       "    <tr>\n",
       "      <th>7559</th>\n",
       "      <td>21.619768</td>\n",
       "      <td>21.488078</td>\n",
       "      <td>11.881870</td>\n",
       "      <td>20.130857</td>\n",
       "      <td>10.678562</td>\n",
       "      <td>10.165622</td>\n",
       "      <td>15.810371</td>\n",
       "      <td>15.516714</td>\n",
       "      <td>17.750541</td>\n",
       "      <td>8.932558</td>\n",
       "      <td>...</td>\n",
       "      <td>19.451719</td>\n",
       "      <td>6.203029</td>\n",
       "      <td>25.522141</td>\n",
       "      <td>13.286807</td>\n",
       "      <td>54.198383</td>\n",
       "      <td>27.495643</td>\n",
       "      <td>21.672011</td>\n",
       "      <td>19.247457</td>\n",
       "      <td>13.538170</td>\n",
       "      <td>47.351039</td>\n",
       "    </tr>\n",
       "    <tr>\n",
       "      <th>7560</th>\n",
       "      <td>21.362681</td>\n",
       "      <td>21.260799</td>\n",
       "      <td>12.043361</td>\n",
       "      <td>20.334206</td>\n",
       "      <td>10.589492</td>\n",
       "      <td>10.275394</td>\n",
       "      <td>15.783956</td>\n",
       "      <td>15.682243</td>\n",
       "      <td>17.720106</td>\n",
       "      <td>9.005591</td>\n",
       "      <td>...</td>\n",
       "      <td>19.494667</td>\n",
       "      <td>6.290829</td>\n",
       "      <td>25.487952</td>\n",
       "      <td>13.338009</td>\n",
       "      <td>53.961217</td>\n",
       "      <td>27.576297</td>\n",
       "      <td>21.795086</td>\n",
       "      <td>19.458273</td>\n",
       "      <td>13.771979</td>\n",
       "      <td>48.237155</td>\n",
       "    </tr>\n",
       "  </tbody>\n",
       "</table>\n",
       "<p>7561 rows × 500 columns</p>\n",
       "</div>"
      ],
      "text/plain": [
       "            0          1          2          3          4          5    \\\n",
       "0      1.000000   1.000000   1.000000   1.000000   1.000000   1.000000   \n",
       "1      0.993158   0.995934   0.991942   0.997772   1.009052   0.999171   \n",
       "2      0.982483   0.994717   0.984742   0.992489   1.018436   1.010246   \n",
       "3      0.975047   0.997549   0.971128   0.981496   1.020749   1.008499   \n",
       "4      0.969257   1.005673   0.966286   0.973475   1.026831   0.999054   \n",
       "...         ...        ...        ...        ...        ...        ...   \n",
       "7556  21.952793  21.501454  11.579663  19.993785  10.451494  10.147526   \n",
       "7557  21.668459  21.786316  11.650859  20.152804  10.575310  10.078821   \n",
       "7558  21.752065  21.542267  11.753156  20.061763  10.719774  10.054651   \n",
       "7559  21.619768  21.488078  11.881870  20.130857  10.678562  10.165622   \n",
       "7560  21.362681  21.260799  12.043361  20.334206  10.589492  10.275394   \n",
       "\n",
       "            6          7          8         9    ...        490       491  \\\n",
       "0      1.000000   1.000000   1.000000  1.000000  ...   1.000000  1.000000   \n",
       "1      1.005574   0.999753   0.978201  0.998608  ...   0.989830  0.989023   \n",
       "2      1.004964   0.999979   0.974833  0.993516  ...   0.991283  1.002535   \n",
       "3      1.006064   1.003460   0.983495  0.991000  ...   0.996135  0.993437   \n",
       "4      1.001542   1.004106   0.975465  0.981869  ...   0.996769  0.986563   \n",
       "...         ...        ...        ...       ...  ...        ...       ...   \n",
       "7556  15.607945  15.303227  18.385376  8.856618  ...  19.732840  6.177532   \n",
       "7557  15.821949  15.567695  18.199621  8.986775  ...  19.686839  6.197291   \n",
       "7558  15.846462  15.481954  17.867139  8.922155  ...  19.560173  6.186063   \n",
       "7559  15.810371  15.516714  17.750541  8.932558  ...  19.451719  6.203029   \n",
       "7560  15.783956  15.682243  17.720106  9.005591  ...  19.494667  6.290829   \n",
       "\n",
       "            492        493        494        495        496        497  \\\n",
       "0      1.000000   1.000000   1.000000   1.000000   1.000000   1.000000   \n",
       "1      0.990311   1.000321   0.995716   0.990334   0.995497   1.007492   \n",
       "2      0.994000   0.990249   0.996367   0.989093   1.006039   1.015946   \n",
       "3      0.989321   0.985759   0.986124   0.975531   0.991538   1.021959   \n",
       "4      0.987395   0.979424   0.991913   0.976171   0.998664   1.023409   \n",
       "...         ...        ...        ...        ...        ...        ...   \n",
       "7556  25.966032  13.046036  54.446917  27.440744  21.598468  19.883471   \n",
       "7557  25.663249  13.200633  55.031678  27.532104  21.726468  19.657902   \n",
       "7558  25.754813  13.345265  54.658785  27.497166  21.684918  19.431087   \n",
       "7559  25.522141  13.286807  54.198383  27.495643  21.672011  19.247457   \n",
       "7560  25.487952  13.338009  53.961217  27.576297  21.795086  19.458273   \n",
       "\n",
       "            498        499  \n",
       "0      1.000000   1.000000  \n",
       "1      0.990847   1.004698  \n",
       "2      0.995454   1.018562  \n",
       "3      0.991874   1.002040  \n",
       "4      0.986844   1.015258  \n",
       "...         ...        ...  \n",
       "7556  13.439261  47.319326  \n",
       "7557  13.434076  47.829565  \n",
       "7558  13.412435  47.778302  \n",
       "7559  13.538170  47.351039  \n",
       "7560  13.771979  48.237155  \n",
       "\n",
       "[7561 rows x 500 columns]"
      ]
     },
     "execution_count": 33,
     "metadata": {},
     "output_type": "execute_result"
    }
   ],
   "source": [
    "# Running a Monte Carlo simulation to forecast 30 years cumulative returns\n",
    "MC_sim.calc_cumulative_return()"
   ]
  },
  {
   "cell_type": "code",
   "execution_count": 35,
   "metadata": {},
   "outputs": [
    {
     "data": {
      "image/png": "[encoded data removed]",
      "text/plain": [
       "<Figure size 432x288 with 1 Axes>"
      ]
     },
     "metadata": {
      "needs_background": "light"
     },
     "output_type": "display_data"
    }
   ],
   "source": [
    "# Plot simulation outcomes\n",
    "mc_plot = MC_sim.plot_simulation()"
   ]
  },
  {
   "cell_type": "code",
   "execution_count": 36,
   "metadata": {},
   "outputs": [
    {
     "data": {
      "image/png": "[encoded data removed]",
      "text/plain": [
       "<Figure size 432x288 with 1 Axes>"
      ]
     },
     "metadata": {
      "needs_background": "light"
     },
     "output_type": "display_data"
    }
   ],
   "source": [
    "# Plot probability distribution and confidence intervals\n",
    "mc_dist_plot = MC_sim.plot_distribution()"
   ]
  },
  {
   "cell_type": "markdown",
   "metadata": {},
   "source": [
    "### Retirement Analysis"
   ]
  },
  {
   "cell_type": "code",
   "execution_count": 37,
   "metadata": {},
   "outputs": [
    {
     "name": "stdout",
     "output_type": "stream",
     "text": [
      "count           500.000000\n",
      "mean             20.373856\n",
      "std              16.695673\n",
      "min               1.130639\n",
      "25%               9.988175\n",
      "50%              15.755303\n",
      "75%              25.458925\n",
      "max             136.122102\n",
      "95% CI Lower      3.581764\n",
      "95% CI Upper     63.656979\n",
      "Name: 7560, dtype: float64\n"
     ]
    }
   ],
   "source": [
    "# Fetch summary statistics from the Monte Carlo simulation results\n",
    "mc_summary = MC_sim.summarize_cumulative_return()\n",
    "\n",
    "# Print summary statistics\n",
    "print(mc_summary)"
   ]
  },
  {
   "cell_type": "markdown",
   "metadata": {},
   "source": [
    "### Calculate the expected portfolio return at the `95%` lower and upper confidence intervals based on a `$20,000` initial investment."
   ]
  },
  {
   "cell_type": "code",
   "execution_count": 39,
   "metadata": {},
   "outputs": [
    {
     "name": "stdout",
     "output_type": "stream",
     "text": [
      "There is a 95% chance that an initial investment of $20000 in the portfolio over the next 30 years will end within in the range of $71635.28 and $1273139.58\n"
     ]
    }
   ],
   "source": [
    "# Set initial investment\n",
    "initial_investment = 20000\n",
    "\n",
    "# Use the lower and upper `95%` confidence intervals to calculate the range of the possible outcomes of our $20,000\n",
    "ci_lower = round(mc_summary[8]*20000,2)\n",
    "ci_upper = round(mc_summary[9]*20000,2)\n",
    "\n",
    "# Print results\n",
    "print(f\"There is a 95% chance that an initial investment of ${initial_investment} in the portfolio\"\n",
    "      f\" over the next 30 years will end within in the range of\"\n",
    "      f\" ${ci_lower} and ${ci_upper}\")"
   ]
  },
  {
   "cell_type": "markdown",
   "metadata": {},
   "source": [
    "### Calculate the expected portfolio return at the `95%` lower and upper confidence intervals based on a `50%` increase in the initial investment."
   ]
  },
  {
   "cell_type": "code",
   "execution_count": 40,
   "metadata": {},
   "outputs": [
    {
     "name": "stdout",
     "output_type": "stream",
     "text": [
      "There is a 95% chance that an initial investment of $30000.0 in the portfolio over the next 30 years will end within in the range of $107452.92 and $1909709.38\n"
     ]
    }
   ],
   "source": [
    "# Set initial investment\n",
    "initial_investment = 20000 * 1.5\n",
    "\n",
    "# Use the lower and upper `95%` confidence intervals to calculate the range of the possible outcomes of our $30,000\n",
    "ci_lower = round(mc_summary[8]*30000,2)\n",
    "ci_upper = round(mc_summary[9]*30000,2)\n",
    "\n",
    "# Print results\n",
    "print(f\"There is a 95% chance that an initial investment of ${initial_investment} in the portfolio\"\n",
    "      f\" over the next 30 years will end within in the range of\"\n",
    "      f\" ${ci_lower} and ${ci_upper}\")"
   ]
  },
  {
   "cell_type": "markdown",
   "metadata": {},
   "source": [
    "## Optional Challenge - Early Retirement\n",
    "\n",
    "\n",
    "### Five Years Retirement Option"
   ]
  },
  {
   "cell_type": "code",
   "execution_count": null,
   "metadata": {},
   "outputs": [],
   "source": [
    "# Configuring a Monte Carlo simulation to forecast 5 years cumulative returns\n",
    "# YOUR CODE HERE!"
   ]
  },
  {
   "cell_type": "code",
   "execution_count": null,
   "metadata": {},
   "outputs": [],
   "source": [
    "# Running a Monte Carlo simulation to forecast 5 years cumulative returns\n",
    "# YOUR CODE HERE!"
   ]
  },
  {
   "cell_type": "code",
   "execution_count": null,
   "metadata": {},
   "outputs": [],
   "source": [
    "# Plot simulation outcomes\n",
    "# YOUR CODE HERE!"
   ]
  },
  {
   "cell_type": "code",
   "execution_count": null,
   "metadata": {},
   "outputs": [],
   "source": [
    "# Plot probability distribution and confidence intervals\n",
    "# YOUR CODE HERE!"
   ]
  },
  {
   "cell_type": "code",
   "execution_count": null,
   "metadata": {},
   "outputs": [],
   "source": [
    "# Fetch summary statistics from the Monte Carlo simulation results\n",
    "# YOUR CODE HERE!\n",
    "\n",
    "# Print summary statistics\n",
    "# YOUR CODE HERE!"
   ]
  },
  {
   "cell_type": "code",
   "execution_count": null,
   "metadata": {},
   "outputs": [],
   "source": [
    "# Set initial investment\n",
    "# YOUR CODE HERE!\n",
    "\n",
    "# Use the lower and upper `95%` confidence intervals to calculate the range of the possible outcomes of our $60,000\n",
    "# YOUR CODE HERE!\n",
    "\n",
    "# Print results\n",
    "print(f\"There is a 95% chance that an initial investment of ${initial_investment} in the portfolio\"\n",
    "      f\" over the next 5 years will end within in the range of\"\n",
    "      f\" ${ci_lower_five} and ${ci_upper_five}\")"
   ]
  },
  {
   "cell_type": "markdown",
   "metadata": {},
   "source": [
    "### Ten Years Retirement Option"
   ]
  },
  {
   "cell_type": "code",
   "execution_count": null,
   "metadata": {},
   "outputs": [],
   "source": [
    "# Configuring a Monte Carlo simulation to forecast 10 years cumulative returns\n",
    "# YOUR CODE HERE!"
   ]
  },
  {
   "cell_type": "code",
   "execution_count": null,
   "metadata": {},
   "outputs": [],
   "source": [
    "# Running a Monte Carlo simulation to forecast 10 years cumulative returns\n",
    "# YOUR CODE HERE!"
   ]
  },
  {
   "cell_type": "code",
   "execution_count": null,
   "metadata": {},
   "outputs": [],
   "source": [
    "# Plot simulation outcomes\n",
    "# YOUR CODE HERE!"
   ]
  },
  {
   "cell_type": "code",
   "execution_count": null,
   "metadata": {},
   "outputs": [],
   "source": [
    "# Plot probability distribution and confidence intervals\n",
    "# YOUR CODE HERE!"
   ]
  },
  {
   "cell_type": "code",
   "execution_count": null,
   "metadata": {},
   "outputs": [],
   "source": [
    "# Fetch summary statistics from the Monte Carlo simulation results\n",
    "# YOUR CODE HERE!\n",
    "\n",
    "# Print summary statistics\n",
    "# YOUR CODE HERE!"
   ]
  },
  {
   "cell_type": "code",
   "execution_count": null,
   "metadata": {},
   "outputs": [],
   "source": [
    "# Set initial investment\n",
    "# YOUR CODE HERE!\n",
    "\n",
    "# Use the lower and upper `95%` confidence intervals to calculate the range of the possible outcomes of our $60,000\n",
    "# YOUR CODE HERE!\n",
    "\n",
    "# Print results\n",
    "print(f\"There is a 95% chance that an initial investment of ${initial_investment} in the portfolio\"\n",
    "      f\" over the next 10 years will end within in the range of\"\n",
    "      f\" ${ci_lower_ten} and ${ci_upper_ten}\")"
   ]
  },
  {
   "cell_type": "code",
   "execution_count": null,
   "metadata": {},
   "outputs": [],
   "source": []
  }
 ],
 "metadata": {
  "kernelspec": {
   "display_name": "Python 3",
   "language": "python",
   "name": "python3"
  },
  "language_info": {
   "codemirror_mode": {
    "name": "ipython",
    "version": 3
   },
   "file_extension": ".py",
   "mimetype": "text/x-python",
   "name": "python",
   "nbconvert_exporter": "python",
   "pygments_lexer": "ipython3",
   "version": "3.7.10"
  },
  "nteract": {
   "version": "0.28.0"
  }
 },
 "nbformat": 4,
 "nbformat_minor": 4
}
